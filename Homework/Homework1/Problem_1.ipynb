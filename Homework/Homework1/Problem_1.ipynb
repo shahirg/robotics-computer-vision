{
 "cells": [
  {
   "cell_type": "code",
   "execution_count": 1,
   "metadata": {},
   "outputs": [],
   "source": [
    "import numpy as np"
   ]
  },
  {
   "cell_type": "code",
   "execution_count": 2,
   "metadata": {},
   "outputs": [],
   "source": [
    "# Define Matrix A\n",
    "A = np.matrix([[-4.22, 1.83, -2.22],\n",
    "               [-.078, -3.44, -1.92],\n",
    "               [1.26, -0.71, 0.60]])\n",
    "\n",
    "# Get Matrix Dimensions\n",
    "rows, cols = A.shape\n",
    "\n",
    "# Set b to be a 0 vector of rows equal to columns of A\n",
    "b = [0 for i in range(cols)]\n",
    "\n"
   ]
  },
  {
   "cell_type": "code",
   "execution_count": 3,
   "metadata": {},
   "outputs": [
    {
     "name": "stdout",
     "output_type": "stream",
     "text": [
      "[-0. -0.  0.]\n",
      "There is 3 independent columns in matrix A\n"
     ]
    }
   ],
   "source": [
    "# Solve for x\n",
    "x = np.linalg.solve(A,b)\n",
    "print(x)\n",
    "\n",
    "# Check num of 0s\n",
    "count = 0\n",
    "for element in x:\n",
    "    if element == 0:\n",
    "        count += 1;\n",
    "\n",
    "# Print number of  independent columns\n",
    "print(f\"There is {count} independent columns in matrix A\")\n"
   ]
  }
 ],
 "metadata": {
  "interpreter": {
   "hash": "2db524e06e9f5f4ffedc911c917cb75e12dbc923643829bf417064a77eb14d37"
  },
  "kernelspec": {
   "display_name": "Python 3.8.3 64-bit",
   "name": "python3"
  },
  "language_info": {
   "codemirror_mode": {
    "name": "ipython",
    "version": 3
   },
   "file_extension": ".py",
   "mimetype": "text/x-python",
   "name": "python",
   "nbconvert_exporter": "python",
   "pygments_lexer": "ipython3",
   "version": "3.8.3"
  },
  "orig_nbformat": 4
 },
 "nbformat": 4,
 "nbformat_minor": 2
}
