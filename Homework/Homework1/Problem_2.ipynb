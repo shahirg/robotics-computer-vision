{
 "cells": [
  {
   "cell_type": "code",
   "execution_count": 19,
   "metadata": {
    "colab": {},
    "colab_type": "code",
    "id": "kF9L73Ooqves"
   },
   "outputs": [],
   "source": [
    "import numpy as np\n",
    "from numpy.linalg import inv\n",
    "import matplotlib.pyplot as plt"
   ]
  },
  {
   "cell_type": "code",
   "execution_count": 20,
   "metadata": {
    "colab": {},
    "colab_type": "code",
    "id": "b2AqwxNXs7bW"
   },
   "outputs": [],
   "source": [
    "# X and Y coordinates from problem description\n",
    "x = [-1.1, 2.3, 5.8, -3.5, 3.0, 8.5]\n",
    "y = [8.6, 2.9, -5.8, 13.0, 0.1, -9.9]"
   ]
  },
  {
   "cell_type": "code",
   "execution_count": 48,
   "metadata": {
    "colab": {},
    "colab_type": "code",
    "id": "EthOUWp5tTpW"
   },
   "outputs": [
    {
     "data": {
      "image/png": "[encoded data removed]",
      "text/plain": [
       "<Figure size 432x288 with 1 Axes>"
      ]
     },
     "metadata": {
      "needs_background": "light"
     },
     "output_type": "display_data"
    }
   ],
   "source": [
    "# TODO: Form the A matrix and the b vector\n",
    "plt.scatter(x,y)\n",
    "plt.show\n",
    "\n",
    "# Matrix A\n",
    "\n",
    "\n",
    "A = np.matrix([[-1.1,1],[2.3,1],[5.8,1],[-3.5,1],[3.0,1],[8.5,1]])"
   ]
  },
  {
   "cell_type": "code",
   "execution_count": 50,
   "metadata": {
    "colab": {},
    "colab_type": "code",
    "id": "OYC3qMTltgVX"
   },
   "outputs": [
    {
     "data": {
      "text/plain": [
       "-1.9557936342833369"
      ]
     },
     "execution_count": 50,
     "metadata": {},
     "output_type": "execute_result"
    }
   ],
   "source": [
    "# TODO: Find the vector q\n",
    "# Transpose A\n",
    "At = np.matrix.transpose(A)\n",
    "# A'A\n",
    "AtA = np.matmul(At,A)\n",
    "# print(AtA)\n",
    "AtAinv = np.linalg.inv(AtA)\n",
    "# print(AtAinv)\n",
    "# print(np.matmul(AtAinv,At))\n",
    "q = np.matmul(np.matmul(AtAinv,At),y)\n",
    "q = q.tolist()\n"
   ]
  },
  {
   "cell_type": "code",
   "execution_count": 55,
   "metadata": {
    "colab": {},
    "colab_type": "code",
    "id": "NGw-XA15t_kI"
   },
   "outputs": [
    {
     "name": "stdout",
     "output_type": "stream",
     "text": [
      "y = -1.956x + 6.373\n"
     ]
    }
   ],
   "source": [
    "# Display computed q vector\n",
    "print('y = {0:2.3f}x + {1:2.3f}'.format(q[0][0], q[0][1]))"
   ]
  }
 ],
 "metadata": {
  "colab": {
   "name": "Problem_2.ipynb",
   "provenance": []
  },
  "interpreter": {
   "hash": "2db524e06e9f5f4ffedc911c917cb75e12dbc923643829bf417064a77eb14d37"
  },
  "kernelspec": {
   "display_name": "Python 3.8.3 64-bit",
   "name": "python3"
  },
  "language_info": {
   "codemirror_mode": {
    "name": "ipython",
    "version": 3
   },
   "file_extension": ".py",
   "mimetype": "text/x-python",
   "name": "python",
   "nbconvert_exporter": "python",
   "pygments_lexer": "ipython3",
   "version": "3.8.3"
  }
 },
 "nbformat": 4,
 "nbformat_minor": 4
}
